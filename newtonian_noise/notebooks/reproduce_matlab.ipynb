{
 "cells": [
  {
   "cell_type": "markdown",
   "metadata": {},
   "source": [
    "# Demo of newtonian noise code\n",
    "\n",
    "The goal is to reproduce one of the plots from the old matlab code"
   ]
  },
  {
   "cell_type": "markdown",
   "metadata": {},
   "source": [
    "## Setup"
   ]
  },
  {
   "cell_type": "code",
   "execution_count": 1,
   "metadata": {},
   "outputs": [],
   "source": [
    "# Standard inputs\n",
    "import numpy as np\n",
    "from matplotlib import pyplot as plt\n",
    "\n",
    "# Add parent directory to path\n",
    "import os,sys\n",
    "parentdir=os.path.dirname(os.path.abspath('.'))\n",
    "sys.path.insert(0,parentdir)\n",
    "\n",
    "# Import classes for newtonian noise\n",
    "from TestMass import TestMass\n",
    "from CoherentSeismicField import CoherentSeismicField"
   ]
  },
  {
   "cell_type": "code",
   "execution_count": 2,
   "metadata": {},
   "outputs": [],
   "source": [
    "# Constants\n",
    "G_SI=6.673e-11\n",
    "km_SI=1000\n",
    "feet = 0.3048 # meters"
   ]
  },
  {
   "cell_type": "markdown",
   "metadata": {},
   "source": [
    "## Initialize seismic field"
   ]
  },
  {
   "cell_type": "code",
   "execution_count": 3,
   "metadata": {},
   "outputs": [],
   "source": [
    "# Initialize frequency array and seismic field object\n",
    "freqs=np.arange(0.5,5.1,0.5)\n",
    "csf=CoherentSeismicField(freqs)\n",
    "\n",
    "# Read in eigenfunction data\n",
    "seismicfile='../data/Rwave_params_20180423'\n",
    "csf.readSeismicDataFromFile(seismicfile)\n",
    "\n",
    "# Read in radiometer map data\n",
    "map_top_dir='../data/radiometer_maps/1117324816/'\n",
    "map_data_dirs=['0_5_Hz/','1_0_Hz/','1_5_Hz/','2_0_Hz/','2_5_Hz/',\n",
    "               '3_0_Hz/','3_5_Hz/','4_0_Hz/','4_5_Hz/','5_0_Hz/']\n",
    "mapdirs=[map_top_dir+x for x in map_data_dirs]\n",
    "mapfile='MAPS-1117324816-1117332016.mat'\n",
    "csf.readMapFromFile_Incoherent_RemoveNegativePixels(mapdirs,mapfile)\n",
    "\n",
    "# Read in data for ASD\n",
    "asd_top_dir='../data/asds/1117324816/'\n",
    "asd_data_dirs=['0_5_Hz/','1_0_Hz/','1_5_Hz/','2_0_Hz/','2_5_Hz/',\n",
    "               '3_0_Hz/','3_5_Hz/','4_0_Hz/','4_5_Hz/','5_0_Hz/']\n",
    "asd_dirs=[asd_top_dir+x for x in asd_data_dirs]\n",
    "asd_filename='MAPS-1117324816-1117332016.mat'\n",
    "csf.renormalizeMaps(asd_dirs,asd_filename) # rescale radiometer maps based on measured ASD"
   ]
  },
  {
   "cell_type": "markdown",
   "metadata": {},
   "source": [
    "## Construct Newtonian Noise estimate"
   ]
  },
  {
   "cell_type": "markdown",
   "metadata": {},
   "source": [
    "First, initialize some parameters"
   ]
  },
  {
   "cell_type": "code",
   "execution_count": 4,
   "metadata": {},
   "outputs": [],
   "source": [
    "L=40*km_SI\n",
    "m=40 #kg\n",
    "depths = feet*np.array([0,800,4850])\n",
    "newtonian_noise={}"
   ]
  },
  {
   "cell_type": "markdown",
   "metadata": {},
   "source": [
    "Then, consider several versions of a next generation experiment at different depths.\n",
    "\n",
    "Compute the (fourier transform of the) acceleration for each test mass in each experiment."
   ]
  },
  {
   "cell_type": "code",
   "execution_count": 5,
   "metadata": {},
   "outputs": [],
   "source": [
    "for depth in depths:\n",
    "    # To mimic matlab code, take (x,y) positions to both be zero for all test masses\n",
    "    x_ITMX=np.array([0,0,-depth])\n",
    "    x_ITMY=np.array([0,0,-depth])\n",
    "    x_ETMX=np.array([0,0,-depth]) \n",
    "    x_ETMY=np.array([0,0,-depth])\n",
    "\n",
    "    # Initialize TestMass objects\n",
    "    ITMX=TestMass('ITMX',x_ITMX,m,freqs)\n",
    "    ITMY=TestMass('ITMY',x_ITMY,m,freqs)\n",
    "    ETMX=TestMass('ETMX',x_ETMX,m,freqs)\n",
    "    ETMY=TestMass('ETMY',x_ETMY,m,freqs)\n",
    "\n",
    "    masses=[ITMX,ITMY,ETMX,ETMY]\n",
    "\n",
    "    # Compute acceleration for each mass\n",
    "    for mass in masses:\n",
    "        mass.get_acceleration_budget(csf)\n",
    "        for ii,freq in enumerate(mass.freqs):\n",
    "            a=mass.acceleration[freq]\n",
    "        newtonian_noise_sq=np.zeros(freqs.shape)\n",
    "        newtonian_noise[depth]=np.zeros(freqs.shape)"
   ]
  },
  {
   "cell_type": "markdown",
   "metadata": {},
   "source": [
    "Compute the newtonian noise in each experiment, by summing over the test masses."
   ]
  },
  {
   "cell_type": "code",
   "execution_count": 6,
   "metadata": {},
   "outputs": [],
   "source": [
    "for depth in depths:\n",
    "    # Compute newtonian noise by summing over masses\n",
    "    for ii,freq in enumerate(freqs):\n",
    "        for mass in masses:\n",
    "            a=mass.acceleration[freq]\n",
    "            newtonian_noise_sq[ii]+=np.abs( a[0]/L/(2*np.pi*freq)**2 )**2\n",
    "        newtonian_noise[depth][ii]=np.sqrt(newtonian_noise_sq[ii])"
   ]
  },
  {
   "cell_type": "markdown",
   "metadata": {},
   "source": [
    "## Plot results"
   ]
  },
  {
   "cell_type": "code",
   "execution_count": 7,
   "metadata": {},
   "outputs": [
    {
     "data": {
      "image/png": "[encoded data removed]",
      "text/plain": [
       "<Figure size 432x288 with 1 Axes>"
      ]
     },
     "metadata": {
      "needs_background": "light"
     },
     "output_type": "display_data"
    }
   ],
   "source": [
    "for depth in depths:\n",
    "    plt.loglog(freqs,newtonian_noise[depth],label='%d ft'%int(depth/feet))\n",
    "freqDet,ALIGO,ETD,CE,CEWB,CEPESS=np.loadtxt('../data/CE_ASD_P1600143-v18.dat',unpack=True)\n",
    "plt.loglog(freqDet,ETD,label='ETD')\n",
    "plt.loglog(freqDet,CE,label='CE')\n",
    "plt.xlim([0.5,10])\n",
    "plt.xlabel('Frequency (Hz)')\n",
    "plt.ylabel('Strain/sqrt Hz')\n",
    "plt.grid()\n",
    "plt.legend()\n",
    "plt.show()\n"
   ]
  }
 ],
 "metadata": {
  "kernelspec": {
   "display_name": "Python 3",
   "language": "python",
   "name": "python3"
  },
  "language_info": {
   "codemirror_mode": {
    "name": "ipython",
    "version": 3
   },
   "file_extension": ".py",
   "mimetype": "text/x-python",
   "name": "python",
   "nbconvert_exporter": "python",
   "pygments_lexer": "ipython3",
   "version": "3.7.1"
  }
 },
 "nbformat": 4,
 "nbformat_minor": 2
}
