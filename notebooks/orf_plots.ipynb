{
 "cells": [
  {
   "cell_type": "code",
   "execution_count": 1,
   "metadata": {},
   "outputs": [
    {
     "name": "stderr",
     "output_type": "stream",
     "text": [
      "/home/meyers/opt/seispy/lib/python2.7/site-packages/matplotlib/__init__.py:1401: UserWarning:  This call to matplotlib.use() has no effect\n",
      "because the backend has already been chosen;\n",
      "matplotlib.use() must be called *before* pylab, matplotlib.pyplot,\n",
      "or matplotlib.backends is imported for the first time.\n",
      "\n",
      "  warnings.warn(_use_error_msg)\n"
     ]
    }
   ],
   "source": [
    "%matplotlib inline\n",
    "import matplotlib\n",
    "matplotlib.use('agg')\n",
    "from seispy.utils import orf_p_directional, orf_r_directional, orf_s_directional, orf_p_directional2\n",
    "import numpy as np"
   ]
  },
  {
   "cell_type": "code",
   "execution_count": 2,
   "metadata": {
    "collapsed": true
   },
   "outputs": [],
   "source": [
    "# ratio of distance to lambda\n",
    "ratios = np.logspace(-2,2, num=40)"
   ]
  },
  {
   "cell_type": "code",
   "execution_count": 8,
   "metadata": {},
   "outputs": [
    {
     "name": "stdout",
     "output_type": "stream",
     "text": [
      "100 loops, best of 3: 7.02 ms per loop\n",
      "1000 loops, best of 3: 560 µs per loop\n",
      "[[  2.58558726e-03-0.00088097j   1.35623466e-02-0.02028923j\n",
      "   -3.55115499e-03-0.06670936j ...,  -3.55115499e-03-0.06670936j\n",
      "    1.35623466e-02-0.02028923j   2.58558726e-03-0.00088097j]\n",
      " [  2.53232531e-03-0.00085266j   1.34794585e-02-0.01970326j\n",
      "   -2.31220759e-03-0.06530708j ...,  -2.31220759e-03-0.06530708j\n",
      "    1.34794585e-02-0.01970326j   2.53232531e-03-0.00085266j]\n",
      " [  2.42773521e-03-0.00079815j   1.32921103e-02-0.01856449j\n",
      "    1.77048091e-17-0.0625j     ...,  -1.07195281e-16-0.0625j\n",
      "    1.32921103e-02-0.01856449j   2.42773521e-03-0.00079815j]\n",
      " ..., \n",
      " [  2.42773521e-03-0.00079815j   1.32921103e-02-0.01856449j\n",
      "    1.77048091e-17-0.0625j     ...,  -1.07195281e-16-0.0625j\n",
      "    1.32921103e-02-0.01856449j   2.42773521e-03-0.00079815j]\n",
      " [  2.53232531e-03-0.00085266j   1.34794585e-02-0.01970326j\n",
      "   -2.31220759e-03-0.06530708j ...,  -2.31220759e-03-0.06530708j\n",
      "    1.34794585e-02-0.01970326j   2.53232531e-03-0.00085266j]\n",
      " [  2.58558726e-03-0.00088097j   1.35623466e-02-0.02028923j\n",
      "   -3.55115499e-03-0.06670936j ...,  -3.55115499e-03-0.06670936j\n",
      "    1.35623466e-02-0.02028923j   2.58558726e-03-0.00088097j]]\n",
      "[[  2.58558726e-03-0.00088097j   1.35623466e-02-0.02028923j\n",
      "   -3.55115499e-03-0.06670936j ...,  -3.55115499e-03-0.06670936j\n",
      "    1.35623466e-02-0.02028923j   2.58558726e-03-0.00088097j]\n",
      " [  2.53232531e-03-0.00085266j   1.34794585e-02-0.01970326j\n",
      "   -2.31220759e-03-0.06530708j ...,  -2.31220759e-03-0.06530708j\n",
      "    1.34794585e-02-0.01970326j   2.53232531e-03-0.00085266j]\n",
      " [  2.42773521e-03-0.00079815j   1.32921103e-02-0.01856449j\n",
      "    1.77048091e-17-0.0625j     ...,  -1.07195281e-16-0.0625j\n",
      "    1.32921103e-02-0.01856449j   2.42773521e-03-0.00079815j]\n",
      " ..., \n",
      " [  2.42773521e-03-0.00079815j   1.32921103e-02-0.01856449j\n",
      "    1.77048091e-17-0.0625j     ...,  -1.07195281e-16-0.0625j\n",
      "    1.32921103e-02-0.01856449j   2.42773521e-03-0.00079815j]\n",
      " [  2.53232531e-03-0.00085266j   1.34794585e-02-0.01970326j\n",
      "   -2.31220759e-03-0.06530708j ...,  -2.31220759e-03-0.06530708j\n",
      "    1.34794585e-02-0.01970326j   2.53232531e-03-0.00085266j]\n",
      " [  2.58558726e-03-0.00088097j   1.35623466e-02-0.02028923j\n",
      "   -3.55115499e-03-0.06670936j ...,  -3.55115499e-03-0.06670936j\n",
      "    1.35623466e-02-0.02028923j   2.58558726e-03-0.00088097j]]\n",
      "1800\n",
      "1800\n"
     ]
    }
   ],
   "source": [
    "# pwaves\n",
    "# we'll set distance, frequency to 1.\n",
    "# that means that v = lambda = 1/ratio\n",
    "ch1_vec = [1,0,0] # east \n",
    "ch2_vec = [1,0,0] # east\n",
    "# set distance between stations to 1\n",
    "det1_loc = [1,0,0]\n",
    "det2_loc = [0,0,0]\n",
    "orfs = []\n",
    "thetas = np.arange(3,180,6) * np.pi / 180.\n",
    "phis = np.arange(3, 360,6) * np.pi / 180.\n",
    "\n",
    "%timeit g, p, t = orf_p_directional(ch1_vec, ch2_vec, det1_loc, det2_loc, 1, 1, thetas=thetas, phis=phis)\n",
    "%timeit g2, p2, t2 = orf_p_directional2(ch1_vec, ch2_vec, det1_loc, det2_loc, 1, 1, thetas=thetas, phis=phis)\n",
    "g, p, t = orf_p_directional(ch1_vec, ch2_vec, det1_loc, det2_loc, 1, 1, thetas=thetas, phis=phis)\n",
    "g2, p2, t2 = orf_p_directional2(ch1_vec, ch2_vec, det1_loc, det2_loc, 1, 1, thetas=thetas, phis=phis)\n",
    "print g\n",
    "print g2\n",
    "print np.sum(g==g2)\n",
    "print g.size\n"
   ]
  },
  {
   "cell_type": "code",
   "execution_count": null,
   "metadata": {
    "collapsed": true
   },
   "outputs": [],
   "source": []
  }
 ],
 "metadata": {
  "kernelspec": {
   "display_name": "Python 2",
   "language": "python",
   "name": "python2"
  },
  "language_info": {
   "codemirror_mode": {
    "name": "ipython",
    "version": 2
   },
   "file_extension": ".py",
   "mimetype": "text/x-python",
   "name": "python",
   "nbconvert_exporter": "python",
   "pygments_lexer": "ipython2",
   "version": "2.7.5"
  }
 },
 "nbformat": 4,
 "nbformat_minor": 2
}
